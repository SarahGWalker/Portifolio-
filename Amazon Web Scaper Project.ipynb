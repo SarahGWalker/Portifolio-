{
 "cells": [
  {
   "cell_type": "code",
   "execution_count": 21,
   "id": "4aa79448",
   "metadata": {},
   "outputs": [],
   "source": [
    "#Import libraries \n",
    "\n",
    "from bs4 import BeautifulSoup\n",
    "import requests\n",
    "import time\n",
    "import datetime\n",
    "#To send emails to myself \n",
    "import smtplib"
   ]
  },
  {
   "cell_type": "code",
   "execution_count": 92,
   "id": "7001df58",
   "metadata": {
    "scrolled": true
   },
   "outputs": [
    {
     "name": "stdout",
     "output_type": "stream",
     "text": [
      "\n",
      "                      $10.86\n",
      "                     \n",
      "\n",
      "                   Star Wars Men's Words Of Wisdom T-Shirt\n",
      "                  \n"
     ]
    }
   ],
   "source": [
    "#Connect to website \n",
    "\n",
    "URL = 'https://www.amazon.com/Star-Wars-Wisdom-T-Shirt-Heather/dp/B00KRIR134/ref=sr_1_8?crid=356PP3ZV4H6EU&keywords=stats+shirt&qid=1642134422&sprefix=stars+shirt%2Caps%2C353&sr=8-8'\n",
    "\n",
    "headers = {\"User-Agent\": \"Mozilla/5.0 (Windows NT 10.0; Win64; x64) AppleWebKit/537.36 (KHTML, like Gecko) Chrome/78.0.3904.108 Safari/537.36\", \"Accept-Encoding\":\"gzip, deflate\", \"Accept\":\"text/html,application/xhtml+xml,application/xml;q=0.9,*/*;q=0.8\", \"DNT\":\"1\",\"Connection\":\"close\", \"Upgrade-Insecure-Requests\":\"1\"}\n",
    "\n",
    "page = requests.get(URL, headers=headers)\n",
    "\n",
    "#Below is the html that you see when you inspect a webpage \n",
    "\n",
    "soup1 = BeautifulSoup(page.content, \"html.parser\")\n",
    "\n",
    "#Now to format the data alittle\n",
    "\n",
    "soup2 = BeautifulSoup(soup1.prettify(), \"html.parser\")\n",
    "\n",
    "#specificing what we are looking for\n",
    "\n",
    "title = soup2.find(id='productTitle').get_text()\n",
    "\n",
    "price = soup2.find('span', 'a-offscreen').get_text()\n",
    "\n",
    "print(price)\n",
    "print(title)\n"
   ]
  },
  {
   "cell_type": "code",
   "execution_count": 93,
   "id": "1f1c5fd6",
   "metadata": {},
   "outputs": [
    {
     "name": "stdout",
     "output_type": "stream",
     "text": [
      "10.86\n",
      "Star Wars Men's Words Of Wisdom T-Shirt\n"
     ]
    },
    {
     "data": {
      "text/plain": [
       "str"
      ]
     },
     "execution_count": 93,
     "metadata": {},
     "output_type": "execute_result"
    }
   ],
   "source": [
    "price = price.strip()[1:]\n",
    "\n",
    "title = title.strip()\n",
    "\n",
    "print(price)\n",
    "print(title)\n",
    "\n",
    "type(price)"
   ]
  },
  {
   "cell_type": "code",
   "execution_count": null,
   "id": "22af96db",
   "metadata": {},
   "outputs": [],
   "source": [
    "import datetime\n",
    "\n",
    "today = datetime.date.today()\n",
    "\n",
    "print(today)"
   ]
  },
  {
   "cell_type": "code",
   "execution_count": 102,
   "id": "072281ba",
   "metadata": {},
   "outputs": [],
   "source": [
    "import csv \n",
    "\n",
    "header = ['Title','Price', 'Date']\n",
    "data = [title, price, today]\n",
    "\n",
    "with open('AmazonWebScaper.csv', 'w', newline='',encoding='UTF8') as f:\n",
    "    writer=csv.writer(f)\n",
    "    writer.writerow(header)\n",
    "    writer.writerow(data)\n",
    "    "
   ]
  },
  {
   "cell_type": "code",
   "execution_count": 108,
   "id": "091f9dda",
   "metadata": {},
   "outputs": [
    {
     "name": "stdout",
     "output_type": "stream",
     "text": [
      "                                     Title  Price        Date\n",
      "0  Star Wars Men's Words Of Wisdom T-Shirt  10.86  2022-01-14\n",
      "1  Star Wars Men's Words Of Wisdom T-Shirt  10.86  2022-01-14\n",
      "2  Star Wars Men's Words Of Wisdom T-Shirt  10.86  2022-01-14\n",
      "3  Star Wars Men's Words Of Wisdom T-Shirt  10.86  2022-01-14\n",
      "4  Star Wars Men's Words Of Wisdom T-Shirt  10.86  2022-01-14\n"
     ]
    }
   ],
   "source": [
    "import pandas as pd\n",
    "\n",
    "df= pd.read_csv(r'C:\\Users\\Cash Converters\\AmazonWebScaper.csv')\n",
    "    \n",
    "print(df)    \n",
    "    "
   ]
  },
  {
   "cell_type": "code",
   "execution_count": 107,
   "id": "2bf30921",
   "metadata": {},
   "outputs": [],
   "source": [
    "#Appending data to csv\n",
    "\n",
    "with open('AmazonWebScaper.csv', 'a+', newline='',encoding='UTF8') as f:\n",
    "    writer=csv.writer(f)\n",
    "    writer.writerow(data)"
   ]
  },
  {
   "cell_type": "code",
   "execution_count": null,
   "id": "480cf38f",
   "metadata": {},
   "outputs": [],
   "source": [
    "\n",
    "def check_price():\n",
    "    URL = 'https://www.amazon.com/Star-Wars-Wisdom-T-Shirt-Heather/dp/B00KRIR134/ref=sr_1_8?crid=356PP3ZV4H6EU&keywords=stats+shirt&qid=1642134422&sprefix=stars+shirt%2Caps%2C353&sr=8-8'\n",
    "    headers = {\"User-Agent\": \"Mozilla/5.0 (Windows NT 10.0; Win64; x64) AppleWebKit/537.36 (KHTML, like Gecko) Chrome/78.0.3904.108 Safari/537.36\", \"Accept-Encoding\":\"gzip, deflate\", \"Accept\":\"text/html,application/xhtml+xml,application/xml;q=0.9,*/*;q=0.8\", \"DNT\":\"1\",\"Connection\":\"close\", \"Upgrade-Insecure-Requests\":\"1\"}\n",
    "    page = requests.get(URL, headers=headers)\n",
    "\n",
    "#Below is the html that you see when you inspect a webpage \n",
    "\n",
    "    soup1 = BeautifulSoup(page.content, \"html.parser\")\n",
    "\n",
    "#Now to format the data alittle\n",
    "\n",
    "    soup2 = BeautifulSoup(soup1.prettify(), \"html.parser\")\n",
    "\n",
    "#specificing what we are looking for\n",
    "\n",
    "    title = soup2.find(id='productTitle').get_text()\n",
    "    price = soup2.find('span', 'a-offscreen').get_text()\n",
    "\n",
    "#Format table of data \n",
    "    price = price.strip()[1:]\n",
    "    title = title.strip()\n",
    "\n",
    "    import datetime\n",
    "    today = datetime.date.today()\n",
    "\n",
    "\n",
    "    import csv \n",
    "    header = ['Title','Price', 'Date']\n",
    "    data = [title, price, today]\n",
    "\n",
    "    with open('AmazonWebScaper.csv', 'a+', newline='',encoding='UTF8') as f:\n",
    "        writer=csv.writer(f)\n",
    "        writer.writerow(data)\n",
    "        \n",
    "        "
   ]
  },
  {
   "cell_type": "code",
   "execution_count": null,
   "id": "2524052d",
   "metadata": {},
   "outputs": [],
   "source": [
    "# Timer runs in sec - 86400 is 24hours\n",
    "while(True):\n",
    "    check_price()\n",
    "    time.sleep(5)\n",
    "    \n"
   ]
  },
  {
   "cell_type": "code",
   "execution_count": 113,
   "id": "f2a8d969",
   "metadata": {},
   "outputs": [
    {
     "name": "stdout",
     "output_type": "stream",
     "text": [
      "                                      Title  Price        Date\n",
      "0   Star Wars Men's Words Of Wisdom T-Shirt  10.86  2022-01-14\n",
      "1   Star Wars Men's Words Of Wisdom T-Shirt  10.86  2022-01-14\n",
      "2   Star Wars Men's Words Of Wisdom T-Shirt  10.86  2022-01-14\n",
      "3   Star Wars Men's Words Of Wisdom T-Shirt  10.86  2022-01-14\n",
      "4   Star Wars Men's Words Of Wisdom T-Shirt  10.86  2022-01-14\n",
      "5   Star Wars Men's Words Of Wisdom T-Shirt  10.86  2022-01-14\n",
      "6   Star Wars Men's Words Of Wisdom T-Shirt  10.86  2022-01-14\n",
      "7   Star Wars Men's Words Of Wisdom T-Shirt  10.86  2022-01-14\n",
      "8   Star Wars Men's Words Of Wisdom T-Shirt  10.86  2022-01-14\n",
      "9   Star Wars Men's Words Of Wisdom T-Shirt  10.86  2022-01-14\n",
      "10  Star Wars Men's Words Of Wisdom T-Shirt  10.86  2022-01-14\n",
      "11  Star Wars Men's Words Of Wisdom T-Shirt  10.86  2022-01-14\n",
      "12  Star Wars Men's Words Of Wisdom T-Shirt  10.86  2022-01-14\n",
      "13  Star Wars Men's Words Of Wisdom T-Shirt  10.86  2022-01-14\n",
      "14  Star Wars Men's Words Of Wisdom T-Shirt  10.86  2022-01-14\n"
     ]
    }
   ],
   "source": [
    "import pandas as pd\n",
    "\n",
    "df= pd.read_csv(r'C:\\Users\\Cash Converters\\AmazonWebScaper.csv')\n",
    "    \n",
    "print(df)"
   ]
  },
  {
   "cell_type": "code",
   "execution_count": null,
   "id": "48fa3b58",
   "metadata": {},
   "outputs": [],
   "source": []
  }
 ],
 "metadata": {
  "kernelspec": {
   "display_name": "Python 3 (ipykernel)",
   "language": "python",
   "name": "python3"
  },
  "language_info": {
   "codemirror_mode": {
    "name": "ipython",
    "version": 3
   },
   "file_extension": ".py",
   "mimetype": "text/x-python",
   "name": "python",
   "nbconvert_exporter": "python",
   "pygments_lexer": "ipython3",
   "version": "3.9.7"
  }
 },
 "nbformat": 4,
 "nbformat_minor": 5
}
